{
  "nbformat": 4,
  "nbformat_minor": 0,
  "metadata": {
    "colab": {
      "provenance": []
    },
    "kernelspec": {
      "name": "python3",
      "display_name": "Python 3"
    },
    "language_info": {
      "name": "python"
    }
  },
  "cells": [
    {
      "cell_type": "code",
      "execution_count": 144,
      "metadata": {
        "id": "70pGzp7yJYM_"
      },
      "outputs": [],
      "source": [
        "#import library yang dibutuhkan\n",
        "import numpy as np\n",
        "import matplotlib.pyplot as plt\n",
        "import json\n",
        "from math import sqrt"
      ]
    },
    {
      "cell_type": "code",
      "source": [
        "#membuat fungsi LinearRegression\n",
        "def LinearRegression(experience=None, graph=False, error=False):\n",
        "  #Membuka file train.json sebagai traning data\n",
        "  with open('train.json', 'r') as file:\n",
        "    # Membaca File Train.json\n",
        "    jsondata = file.read()\n",
        "    # Memparsing JSON menjadi Array\n",
        "    datas = json.loads(jsondata)\n",
        "    # Mengubah Data Menjadi Numpy Array\n",
        "    datas = np.array(datas);\n",
        "    # Ngerandomize Array\n",
        "    np.random.shuffle(datas)\n",
        "\n",
        "    \"\"\"\n",
        "    salary = Y atau Variable Dependent\n",
        "    age = X atau Variable Independent\n",
        "    \"\"\"\n",
        "\n",
        "    # Menghitung Jumlah Data Test dan Training\n",
        "    totalDataTrain = int((len(datas) * 80) / 100)\n",
        "    totalDataTest = int(len(datas) - totalDataTrain)\n",
        "\n",
        "    # Data Train\n",
        "    agetest = np.array([data['age'] for data in datas[totalDataTrain:]])\n",
        "    salarytest = np.array([data['salary'] for data in datas[totalDataTrain:]])\n",
        "\n",
        "    # Data Test\n",
        "    agetrain = np.array([data['age'] for data in datas[0:totalDataTrain]])\n",
        "    salarytrain = np.array([data['salary'] for data in datas[0:totalDataTrain]])\n",
        "\n",
        "\n",
        "    #menghitung jumlah data dan total salary dan age\n",
        "    sumSalary = sum(salarytrain)\n",
        "    sumAge = sum(agetrain)\n",
        "\n",
        "    #mencari Mean dari Salary dan Age\n",
        "    meanAge = sumAge / totalDataTrain\n",
        "    meanSalary = sumSalary / totalDataTrain\n",
        "\n",
        "    #mencari range dari age dan salary berdasarkan mean dan menjumlahkan\n",
        "    sumrangeAge = agetrain - meanAge\n",
        "    sumrangeSalary = salarytrain - meanSalary\n",
        "\n",
        "    #untuk menentukan slope dalam bentuk positif atau negatif\n",
        "    b1 = (sum(sumrangeAge * sumrangeSalary)) / (sum(sumrangeAge ** 2))\n",
        "\n",
        "    #menentukan titik mulai dari garis linear\n",
        "    b0 = meanSalary - (b1 * meanAge)\n",
        "\n",
        "    # Mencari nilai x(age) yang maksimal\n",
        "    maxage = 0\n",
        "\n",
        "    for x in agetrain:\n",
        "      if x >= maxage:\n",
        "        maxage = x;\n",
        "\n",
        "    #menentukan titik ujung dari garis linear\n",
        "    linearY = b0 + (b1 * maxage)\n",
        "\n",
        "    if(graph):\n",
        "      x = agetrain\n",
        "      y = salarytrain\n",
        "\n",
        "      x1 = np.array([0, meanAge, maxage]);\n",
        "      y1 = np.array([b0, meanSalary, linearY])\n",
        "\n",
        "      # Menentukan Garis Linear\n",
        "      plt.plot(x1, y1);\n",
        "\n",
        "      # Mempersebar data\n",
        "      plt.scatter(x, y);\n",
        "      plt.scatter(meanAge, meanSalary);\n",
        "      plt.show()\n",
        "\n",
        "    predictedsalary = np.array(([int(b0 + b1 * x) for x in agetest]));\n",
        "\n",
        "    if(error == True):\n",
        "      print('\\nError')\n",
        "      SEE = sqrt((sum((predictedsalary - salarytest) ** 2) / (totalDataTest - 2)))\n",
        "      print(\"SEE:\", SEE)\n",
        "\n",
        "      MAE = (sum(salarytest - predictedsalary)) / totalDataTest\n",
        "      print(\"MAE:\", MAE)\n",
        "\n",
        "      MSE = sum(((salarytest - predictedsalary) ** 2)) / totalDataTest\n",
        "      print(\"MSE:\", MSE)\n",
        "\n",
        "      RMSE = sqrt(((sum(salarytest - predictedsalary)) ** 2) / totalDataTest)\n",
        "      print(\"RMSE:\", RMSE)\n",
        "\n",
        "      MAPE = (sum((predictedsalary - salarytest) / salarytest) * 100) / totalDataTest\n",
        "      print(\"MAPE:\", MAPE)\n",
        "\n",
        "    if(experience != None):\n",
        "      prediction = b0 + b1 * experience\n",
        "      print(prediction)"
      ],
      "metadata": {
        "id": "p6kFLexPXgze"
      },
      "execution_count": 166,
      "outputs": []
    },
    {
      "cell_type": "code",
      "source": [
        "LinearRegression(graph=True, error=True)\n",
        "# Titik Warna Orange adalah Mean Dari X dan Y"
      ],
      "metadata": {
        "colab": {
          "base_uri": "https://localhost:8080/",
          "height": 551
        },
        "id": "XjGey-2TlIEn",
        "outputId": "74892621-1300-4a69-8adb-aafb81756ff1"
      },
      "execution_count": 168,
      "outputs": [
        {
          "output_type": "display_data",
          "data": {
            "text/plain": [
              "<Figure size 640x480 with 1 Axes>"
            ],
            "image/png": "[encoded data removed]"
          },
          "metadata": {}
        },
        {
          "output_type": "stream",
          "name": "stdout",
          "text": [
            "\n",
            "Error\n",
            "SEE: 4637.450457956397\n",
            "MAE: -2309.8333333333335\n",
            "MSE: 14337297.833333334\n",
            "RMSE: 5657.913057538678\n",
            "MAPE: 3.7984781587815584\n"
          ]
        }
      ]
    },
    {
      "cell_type": "code",
      "source": [
        "LinearRegression(4.1)"
      ],
      "metadata": {
        "id": "h85Dq5mnK-Qs",
        "colab": {
          "base_uri": "https://localhost:8080/"
        },
        "outputId": "bd3b64c6-2d90-4038-f7ba-9f3a838bb41e"
      },
      "execution_count": 159,
      "outputs": [
        {
          "output_type": "stream",
          "name": "stdout",
          "text": [
            "62537.9048213132\n"
          ]
        }
      ]
    }
  ]
}