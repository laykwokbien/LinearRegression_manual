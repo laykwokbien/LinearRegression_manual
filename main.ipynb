{
  "nbformat": 4,
  "nbformat_minor": 0,
  "metadata": {
    "colab": {
      "provenance": []
    },
    "kernelspec": {
      "name": "python3",
      "display_name": "Python 3"
    },
    "language_info": {
      "name": "python"
    }
  },
  "cells": [
    {
      "cell_type": "code",
      "execution_count": 70,
      "metadata": {
        "id": "70pGzp7yJYM_"
      },
      "outputs": [],
      "source": [
        "#import library yang dibutuhkan\n",
        "import numpy as np\n",
        "import matplotlib.pyplot as plt\n",
        "import json\n",
        "from math import sqrt"
      ]
    },
    {
      "cell_type": "code",
      "source": [
        "#membuat fungsi LinearRegression\n",
        "def LinearRegression(experience=None, graph=False, acc=False):\n",
        "  #Membuka file train.json sebagai traning data\n",
        "  with open('train.json', 'r') as file:\n",
        "    jsondata = file.read()\n",
        "    datas = json.loads(jsondata)\n",
        "\n",
        "    \"\"\"\n",
        "    salary = Y atau Variable Dependent\n",
        "    age = X atau Variable Independent\n",
        "    \"\"\"\n",
        "\n",
        "    totalDataTrain = int((len(datas) * 80) / 100)\n",
        "    totalDataTest = int(len(datas) - totalDataTrain)\n",
        "\n",
        "    # Data Test\n",
        "    agetrain = np.array([data['age'] for data in datas[0:totalDataTrain]])\n",
        "    salarytrain = np.array([data['salary'] for data in datas[0:totalDataTrain]])\n",
        "    # Data Train\n",
        "    agetest = np.array([data['age'] for data in datas[totalDataTrain:]])\n",
        "    salarytest = np.array([data['salary'] for data in datas[totalDataTrain:]])\n",
        "\n",
        "    #menghitung jumlah data dan total salary dan age\n",
        "    sumSalary = sum(salarytrain)\n",
        "    sumAge = sum(agetrain)\n",
        "\n",
        "    #mencari Mean dari Salary dan Age\n",
        "    meanAge = sumAge / totalDataTrain\n",
        "    meanSalary = sumSalary / totalDataTrain\n",
        "\n",
        "    #mencari range dari age dan salary berdasarkan mean dan menjumlahkan\n",
        "    sumrangeAge = agetrain - meanAge\n",
        "    sumrangeSalary = salarytrain - meanSalary\n",
        "\n",
        "    #untuk menentukan slope dalam bentuk positif atau negatif\n",
        "    b1 = (sum(sumrangeAge * sumrangeSalary)) / (sum(sumrangeAge ** 2))\n",
        "\n",
        "    #menentukan titik mulai dari garis linear\n",
        "    b0 = meanSalary - (b1 * meanAge)\n",
        "\n",
        "    #menentukan titik ujung dari garis linear\n",
        "    linearY = b0 + (b1 * agetrain[-1])\n",
        "\n",
        "    if(graph):\n",
        "      x = agetrain\n",
        "      y = salarytrain\n",
        "      x1 = np.array([0, meanAge, agetrain[-1]]);\n",
        "      y1 = np.array([b0, meanSalary, linearY])\n",
        "      plt.plot(x1, y1);\n",
        "      plt.scatter(x, y);\n",
        "      plt.scatter(meanAge, meanSalary);\n",
        "      plt.show()\n",
        "\n",
        "    predictedsalary = np.array([b0 + b1 * x for x in agetest]);\n",
        "\n",
        "    SEE = sqrt((sum((predictedsalary - salarytest) ** 2) / (totalDataTest - 2)))\n",
        "\n",
        "    Accuracy = 100 - ((SEE / meanSalary) * 100)\n",
        "\n",
        "    if(acc == True):\n",
        "      print(f\"Accuracy of the Model: {Accuracy}\")\n",
        "\n",
        "    if(experience != None):\n",
        "      prediction = b0 + b1 * experience\n",
        "      print(prediction)"
      ],
      "metadata": {
        "id": "p6kFLexPXgze"
      },
      "execution_count": 68,
      "outputs": []
    },
    {
      "cell_type": "code",
      "source": [
        "LinearRegression(graph=True, acc=True)"
      ],
      "metadata": {
        "colab": {
          "base_uri": "https://localhost:8080/",
          "height": 447
        },
        "id": "XjGey-2TlIEn",
        "outputId": "8acf6be4-2da1-405a-86dd-1236acccd7f3"
      },
      "execution_count": 69,
      "outputs": [
        {
          "output_type": "display_data",
          "data": {
            "text/plain": [
              "<Figure size 640x480 with 1 Axes>"
            ],
            "image/png": "[encoded data removed]"
          },
          "metadata": {}
        },
        {
          "output_type": "stream",
          "name": "stdout",
          "text": [
            "Accuracy of the Model: 89.08804674245249\n"
          ]
        }
      ]
    },
    {
      "cell_type": "code",
      "source": [
        "LinearRegression(0.5)"
      ],
      "metadata": {
        "id": "h85Dq5mnK-Qs",
        "colab": {
          "base_uri": "https://localhost:8080/"
        },
        "outputId": "f9dcc56d-c727-4f59-f3ad-be1dbb5b1c1b"
      },
      "execution_count": 53,
      "outputs": [
        {
          "output_type": "stream",
          "name": "stdout",
          "text": [
            "27684.47785720668\n"
          ]
        }
      ]
    }
  ]
}