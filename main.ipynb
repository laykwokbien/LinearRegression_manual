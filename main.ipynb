{
  "nbformat": 4,
  "nbformat_minor": 0,
  "metadata": {
    "colab": {
      "provenance": []
    },
    "kernelspec": {
      "name": "python3",
      "display_name": "Python 3"
    },
    "language_info": {
      "name": "python"
    }
  },
  "cells": [
    {
      "cell_type": "code",
      "execution_count": 107,
      "metadata": {
        "id": "70pGzp7yJYM_"
      },
      "outputs": [],
      "source": [
        "#import library yang dibutuhkan\n",
        "import numpy as np\n",
        "import matplotlib.pyplot as plt\n",
        "import json\n",
        "from math import sqrt\n",
        "from sklearn.metrics import mean_squared_error"
      ]
    },
    {
      "cell_type": "code",
      "source": [
        "#membuat fungsi LinearRegression\n",
        "def LinearRegression(experience=None, graph=False, error=False):\n",
        "  #Membuka file train.json sebagai traning data\n",
        "  with open('train.json', 'r') as file:\n",
        "    jsondata = file.read()\n",
        "    datas = json.loads(jsondata)\n",
        "    np.random.shuffle(datas)\n",
        "    datas = np.array(datas);\n",
        "\n",
        "    \"\"\"\n",
        "    salary = Y atau Variable Dependent\n",
        "    age = X atau Variable Independent\n",
        "    \"\"\"\n",
        "\n",
        "    totalDataTrain = int((len(datas) * 80) / 100)\n",
        "    totalDataTest = int(len(datas) - totalDataTrain)\n",
        "\n",
        "    # Data Test\n",
        "    agetrain = np.array([data['age'] for data in datas[0:totalDataTrain]])\n",
        "    salarytrain = np.array([data['salary'] for data in datas[0:totalDataTrain]])\n",
        "\n",
        "    # Data Train\n",
        "    agetest = np.array([data['age'] for data in datas[totalDataTrain:]])\n",
        "    salarytest = np.array([data['salary'] for data in datas[totalDataTrain:]])\n",
        "\n",
        "    #menghitung jumlah data dan total salary dan age\n",
        "    sumSalary = sum(salarytrain)\n",
        "    sumAge = sum(agetrain)\n",
        "\n",
        "    #mencari Mean dari Salary dan Age\n",
        "    meanAge = sumAge / totalDataTrain\n",
        "    meanSalary = sumSalary / totalDataTrain\n",
        "\n",
        "    #mencari range dari age dan salary berdasarkan mean dan menjumlahkan\n",
        "    sumrangeAge = agetrain - meanAge\n",
        "    sumrangeSalary = salarytrain - meanSalary\n",
        "\n",
        "    #untuk menentukan slope dalam bentuk positif atau negatif\n",
        "    b1 = (sum(sumrangeAge * sumrangeSalary)) / (sum(sumrangeAge ** 2))\n",
        "\n",
        "    #menentukan titik mulai dari garis linear\n",
        "    b0 = meanSalary - (b1 * meanAge)\n",
        "\n",
        "    maxage = 0\n",
        "\n",
        "\n",
        "    for x in agetrain:\n",
        "      if x >= maxage:\n",
        "        maxage = x;\n",
        "\n",
        "    #menentukan titik ujung dari garis linear\n",
        "    linearY = b0 + (b1 * maxage)\n",
        "\n",
        "    if(graph):\n",
        "      x = agetrain\n",
        "      y = salarytrain\n",
        "\n",
        "      x1 = np.array([0, meanAge, maxage]);\n",
        "      y1 = np.array([b0, meanSalary, linearY])\n",
        "\n",
        "      # Menentukan Garis Linear\n",
        "      plt.plot(x1, y1);\n",
        "\n",
        "      # Mempersebar data\n",
        "      plt.scatter(x, y);\n",
        "      plt.scatter(meanAge, meanSalary);\n",
        "      plt.show()\n",
        "\n",
        "    predictedsalary = np.array([b0 + b1 * x for x in agetest]);\n",
        "\n",
        "    print(salarytrain, '\\n')\n",
        "    print(salarytest, '\\n')\n",
        "\n",
        "    if(error == True):\n",
        "      SEE = sqrt((sum((predictedsalary - salarytest) ** 2) / (totalDataTest - 2)))\n",
        "      print(\"SEE:\", SEE)\n",
        "\n",
        "      MAE = (sum(salarytest - predictedsalary)) / totalDataTest\n",
        "      print(\"MAE:\", MAE)\n",
        "\n",
        "      MSE = sum((salarytest - predictedsalary) ** 2) / totalDataTest\n",
        "      print(\"MSE:\", MSE)\n",
        "\n",
        "      RMSE = sqrt(((sum(salarytest - predictedsalary)) ** 2) / totalDataTest)\n",
        "      print(\"RMSE:\", RMSE)\n",
        "\n",
        "      MAPE = (sum((predictedsalary - salarytest) / salarytest) * 100) / totalDataTest\n",
        "      print(\"MAPE:\", MAPE)\n",
        "\n",
        "    if(experience != None):\n",
        "      prediction = b0 + b1 * experience\n",
        "      print(prediction)"
      ],
      "metadata": {
        "id": "p6kFLexPXgze"
      },
      "execution_count": 125,
      "outputs": []
    },
    {
      "cell_type": "code",
      "source": [
        "LinearRegression(graph=True, error=True)"
      ],
      "metadata": {
        "colab": {
          "base_uri": "https://localhost:8080/",
          "height": 621
        },
        "id": "XjGey-2TlIEn",
        "outputId": "76a6d078-ec53-49aa-9c1a-6ddeef0e80cb"
      },
      "execution_count": 126,
      "outputs": [
        {
          "output_type": "display_data",
          "data": {
            "text/plain": [
              "<Figure size 640x480 with 1 Axes>"
            ],
            "image/png": "[encoded data removed]"
          },
          "metadata": {}
        },
        {
          "output_type": "stream",
          "name": "stdout",
          "text": [
            "[ 83089.  64446.  46206.  57198.  56643.  56958.  55795.  93941. 122392.\n",
            " 112636.  67030. 121873.  63219.  37732. 116970.  91739.  57082. 113813.\n",
            "  54446.  43526.  39433.  81364. 109432.  61112.] \n",
            "\n",
            "[101303.  66030. 105583.  98274.  60151.  39892.] \n",
            "\n",
            "SEE: 7184.367825952084\n",
            "MAE: -1560.9548857380723\n",
            "MSE: 34410094.03905031\n",
            "RMSE: 3823.542981562696\n",
            "MAPE: 3.32744573060965\n"
          ]
        }
      ]
    },
    {
      "cell_type": "code",
      "source": [
        "LinearRegression(3.3)"
      ],
      "metadata": {
        "id": "h85Dq5mnK-Qs",
        "colab": {
          "base_uri": "https://localhost:8080/"
        },
        "outputId": "d399a04b-7aad-4f20-d16f-1583cc6e4f2c"
      },
      "execution_count": 103,
      "outputs": [
        {
          "output_type": "stream",
          "name": "stdout",
          "text": [
            "[{'age': 5.0, 'salary': 67030.0} {'age': 10.4, 'salary': 122392.0}\n",
            " {'age': 8.0, 'salary': 101303.0} {'age': 3.3, 'salary': 54446.0}\n",
            " {'age': 3.0, 'salary': 56643.0} {'age': 9.7, 'salary': 112636.0}\n",
            " {'age': 1.2, 'salary': 39433.0} {'age': 4.6, 'salary': 61112.0}\n",
            " {'age': 3.8, 'salary': 57198.0} {'age': 4.0, 'salary': 63219.0}\n",
            " {'age': 6.9, 'salary': 91739.0} {'age': 3.3, 'salary': 64446.0}\n",
            " {'age': 2.1, 'salary': 43526.0} {'age': 3.1, 'salary': 60151.0}\n",
            " {'age': 5.4, 'salary': 83089.0} {'age': 9.6, 'salary': 116970.0}\n",
            " {'age': 6.0, 'salary': 81364.0} {'age': 6.1, 'salary': 93941.0}\n",
            " {'age': 4.2, 'salary': 57082.0} {'age': 4.1, 'salary': 55795.0}\n",
            " {'age': 5.2, 'salary': 66030.0} {'age': 2.3, 'salary': 39892.0}\n",
            " {'age': 8.8, 'salary': 109432.0} {'age': 1.6, 'salary': 37732.0}\n",
            " {'age': 10.6, 'salary': 121873.0} {'age': 8.3, 'salary': 113813.0}\n",
            " {'age': 4.1, 'salary': 56958.0} {'age': 1.4, 'salary': 46206.0}\n",
            " {'age': 9.1, 'salary': 105583.0} {'age': 7.2, 'salary': 98274.0}]\n",
            "[ 67030. 122392. 101303.  54446.  56643. 112636.  39433.  61112.  57198.\n",
            "  63219.  91739.  64446.  43526.  60151.  83089. 116970.  81364.  93941.\n",
            "  57082.  55795.  66030.  39892. 109432.  37732.]\n",
            "[121873. 113813.  56958.  46206. 105583.  98274.]\n",
            "55445.60863428595\n"
          ]
        }
      ]
    }
  ]
}